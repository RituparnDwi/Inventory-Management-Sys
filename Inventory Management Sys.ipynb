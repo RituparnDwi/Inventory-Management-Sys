{
 "cells": [
  {
   "cell_type": "code",
   "execution_count": 1,
   "id": "4d8ab2b8-0efe-4408-aee3-96e159e908f1",
   "metadata": {},
   "outputs": [
    {
     "data": {
      "text/plain": [
       "'1, 5 star, 5, 100\\n2, milkbar, 5, 100\\n3, cake, 300, 5\\n4, candy, 1, 200'"
      ]
     },
     "execution_count": 1,
     "metadata": {},
     "output_type": "execute_result"
    }
   ],
   "source": [
    " # read the data from file\n",
    "fd = open('Inventory.txt', 'r')\n",
    "txt = fd.read()\n",
    "\n",
    "fd.close()\n",
    "txt"
   ]
  },
  {
   "cell_type": "code",
   "execution_count": 3,
   "id": "05ae6190-ba2d-4cbf-9ab7-ba2e930ab59e",
   "metadata": {},
   "outputs": [
    {
     "name": "stdout",
     "output_type": "stream",
     "text": [
      "['1', ' 5 star', ' 5', ' 100']\n"
     ]
    }
   ],
   "source": [
    "fd = open('Inventory.txt', 'r')\n",
    "product1 = fd.read().split('\\n')\n",
    "for product_1 in product1:\n",
    "    product_1 = product_1.split(',')\n",
    "    if product_1[0] == \"1\":\n",
    "        print(product_1)"
   ]
  },
  {
   "cell_type": "code",
   "execution_count": 7,
   "id": "53901280-72b0-4738-80ee-761152c46030",
   "metadata": {},
   "outputs": [
    {
     "name": "stdout",
     "output_type": "stream",
     "text": [
      "1, 5 star, 5, 100\n",
      "2, milkbar, 5, 100\n",
      "3, cake, 300, 5\n",
      "4, candy, 1, 200\n"
     ]
    }
   ],
   "source": [
    "fd = open('Inventory.txt', 'r')\n",
    "print(fd.read())"
   ]
  },
  {
   "cell_type": "code",
   "execution_count": 13,
   "id": "ae363d15-98ea-4988-aa35-07ca37a6bf2b",
   "metadata": {},
   "outputs": [
    {
     "name": "stdout",
     "output_type": "stream",
     "text": [
      " 5 star\n",
      " milkbar\n",
      " cake\n",
      " candy\n"
     ]
    }
   ],
   "source": [
    "fd = open('Inventory.txt', 'r')\n",
    "product1 = fd.read().split('\\n')\n",
    "for product_1 in product1:\n",
    "    product_1 = product_1.split(',')\n",
    "    print(product_1[1])"
   ]
  },
  {
   "cell_type": "code",
   "execution_count": 15,
   "id": "0df636df-63c6-4a39-a8c3-e843b536e83c",
   "metadata": {},
   "outputs": [
    {
     "name": "stdout",
     "output_type": "stream",
     "text": [
      "1, 5 star, 5, 100\n",
      "2, milkbar, 5, 100\n",
      "3, cake, 300, 5\n",
      "4, candy, 1, 200\n"
     ]
    }
   ],
   "source": [
    "print(txt)"
   ]
  },
  {
   "cell_type": "markdown",
   "id": "01f94974-77c7-41ff-bb05-ed5b0950eae8",
   "metadata": {},
   "source": [
    "### Unique Product "
   ]
  },
  {
   "cell_type": "code",
   "execution_count": 19,
   "id": "0c77e8b1-5bf7-4880-a789-540b2ff3d04c",
   "metadata": {},
   "outputs": [
    {
     "data": {
      "text/plain": [
       "['1, 5 star, 5, 100',\n",
       " '2, milkbar, 5, 100',\n",
       " '3, cake, 300, 5',\n",
       " '4, candy, 1, 200']"
      ]
     },
     "execution_count": 19,
     "metadata": {},
     "output_type": "execute_result"
    }
   ],
   "source": [
    "txt.split('\\n')"
   ]
  },
  {
   "cell_type": "code",
   "execution_count": 21,
   "id": "45b401a7-955c-4aec-96a0-c31273b7dc59",
   "metadata": {},
   "outputs": [
    {
     "data": {
      "text/plain": [
       "4"
      ]
     },
     "execution_count": 21,
     "metadata": {},
     "output_type": "execute_result"
    }
   ],
   "source": [
    "len(txt.split('\\n'))"
   ]
  },
  {
   "cell_type": "code",
   "execution_count": 23,
   "id": "1a9af2b6-1049-4f27-acde-29d8c07b8ad2",
   "metadata": {},
   "outputs": [],
   "source": [
    "fd = open('Inventory.txt', 'r')\n",
    "products = fd.read().split('\\n')\n",
    "fd.close()"
   ]
  },
  {
   "cell_type": "code",
   "execution_count": 25,
   "id": "6275e1da-37e8-40b6-b4d4-a9f7209c4457",
   "metadata": {},
   "outputs": [
    {
     "name": "stdout",
     "output_type": "stream",
     "text": [
      "1, 5 star, 5, 100\n",
      "2, milkbar, 5, 100\n",
      "3, cake, 300, 5\n",
      "4, candy, 1, 200\n"
     ]
    }
   ],
   "source": [
    "for i in products:\n",
    "    print(i)"
   ]
  },
  {
   "cell_type": "code",
   "execution_count": 29,
   "id": "54d6282c-fb8e-4e91-acea-dcd57bad589b",
   "metadata": {},
   "outputs": [
    {
     "name": "stdin",
     "output_type": "stream",
     "text": [
      "Enter product ID:  4\n"
     ]
    },
    {
     "name": "stdout",
     "output_type": "stream",
     "text": [
      "1\n",
      "2\n",
      "3\n",
      "4\n"
     ]
    }
   ],
   "source": [
    "prod_id = input(\"Enter product ID: \")\n",
    "\n",
    "for product in products:\n",
    "    print(product.split(',')[0])"
   ]
  },
  {
   "cell_type": "code",
   "execution_count": 31,
   "id": "f642a65f-f5a2-4e0b-a656-6754e02024f0",
   "metadata": {},
   "outputs": [
    {
     "name": "stdin",
     "output_type": "stream",
     "text": [
      "Enter product ID:  4\n"
     ]
    },
    {
     "name": "stdout",
     "output_type": "stream",
     "text": [
      "4, candy, 1, 200\n"
     ]
    }
   ],
   "source": [
    "prod_id = input(\"Enter product ID: \")\n",
    "\n",
    "for product in products:\n",
    "    if (product.split(',')[0] == prod_id):\n",
    "        print(product)"
   ]
  },
  {
   "cell_type": "code",
   "execution_count": 49,
   "id": "4fe056ce-19ff-4f49-b6b0-255fec23b535",
   "metadata": {},
   "outputs": [
    {
     "name": "stdin",
     "output_type": "stream",
     "text": [
      "Enter product ID:  3\n",
      "Enter product quantity:  3\n"
     ]
    },
    {
     "name": "stdout",
     "output_type": "stream",
     "text": [
      "3, cake, 300, 5\n"
     ]
    }
   ],
   "source": [
    "prod_id = input(\"Enter product ID: \")\n",
    "prod_qu = input('Enter product quantity: ')\n",
    "\n",
    "for product in products:\n",
    "    if (product.split(',')[0] == prod_qu):\n",
    "        print(product)"
   ]
  },
  {
   "cell_type": "markdown",
   "id": "805e0954-3567-46cc-83d3-51e38767c9ba",
   "metadata": {},
   "source": [
    "### Generating bill"
   ]
  },
  {
   "cell_type": "code",
   "execution_count": 55,
   "id": "35d55f44-f0d9-4a0a-b557-ab60780958f4",
   "metadata": {},
   "outputs": [
    {
     "name": "stdin",
     "output_type": "stream",
     "text": [
      "Enter product ID:  1\n",
      "Enter product quantity:  20\n"
     ]
    },
    {
     "name": "stdout",
     "output_type": "stream",
     "text": [
      "------------------------------\n",
      "Product name   :   5 star\n",
      "Product price  :   5\n",
      "Quantity       :  20\n",
      "------------------------------\n",
      "Billing Amount :  100\n",
      "------------------------------\n"
     ]
    }
   ],
   "source": [
    "prod_id = input(\"Enter product ID: \")\n",
    "prod_qu = input('Enter product quantity: ')\n",
    "\n",
    "for product in products:\n",
    "    \n",
    "    prod_detail = product.split(',')\n",
    "    if (prod_detail[0] == prod_id):\n",
    "        print('-'*30)\n",
    "        print('Product name   : ', prod_detail[1])\n",
    "        print('Product price  : ', prod_detail[2])\n",
    "        print('Quantity       : ', prod_qu)\n",
    "        print('-'*30)\n",
    "        print('Billing Amount : ', int(prod_qu) * int(prod_detail[2]))\n",
    "        print('-'*30)\n",
    "    "
   ]
  },
  {
   "cell_type": "markdown",
   "id": "55213011-9ef4-4fac-9392-85a152b11e8f",
   "metadata": {},
   "source": [
    "### Update the Inventory"
   ]
  },
  {
   "cell_type": "code",
   "execution_count": 57,
   "id": "5d02ff6c-6bd6-4fce-b0f7-b65f97c8cddc",
   "metadata": {},
   "outputs": [
    {
     "name": "stdin",
     "output_type": "stream",
     "text": [
      "Enter product ID:  1\n",
      "Enter product quantity:  20\n"
     ]
    },
    {
     "name": "stdout",
     "output_type": "stream",
     "text": [
      "------------------------------\n",
      "Product name   :   5 star\n",
      "Product price  :   5\n",
      "Quantity       :  20\n",
      "------------------------------\n",
      "Billing Amount :  100\n",
      "------------------------------\n",
      "['1', ' 5 star', ' 5', '80']\n",
      "['2', ' milkbar', ' 5', ' 100']\n",
      "['3', ' cake', ' 300', ' 5']\n",
      "['4', ' candy', ' 1', ' 200']\n"
     ]
    }
   ],
   "source": [
    "prod_id = input(\"Enter product ID: \")\n",
    "prod_qu = input('Enter product quantity: ')\n",
    "\n",
    "for product in products:\n",
    "    \n",
    "    prod_detail = product.split(',')\n",
    "    if (prod_detail[0] == prod_id):\n",
    "        print('-'*30)\n",
    "        print('Product name   : ', prod_detail[1])\n",
    "        print('Product price  : ', prod_detail[2])\n",
    "        print('Quantity       : ', prod_qu)\n",
    "        print('-'*30)\n",
    "        print('Billing Amount : ', int(prod_qu) * int(prod_detail[2]))\n",
    "        print('-'*30)\n",
    "\n",
    "        prod_detail[3] = str(int(prod_detail[3]) - int(prod_qu))\n",
    "        \n",
    "    print(prod_detail)        "
   ]
  },
  {
   "cell_type": "code",
   "execution_count": 59,
   "id": "0f1c30f9-8594-4e36-b646-1d8833226059",
   "metadata": {},
   "outputs": [
    {
     "name": "stdin",
     "output_type": "stream",
     "text": [
      "Enter product ID:  3\n",
      "Enter product quantity:  2\n"
     ]
    },
    {
     "name": "stdout",
     "output_type": "stream",
     "text": [
      "------------------------------\n",
      "Product name   :   cake\n",
      "Product price  :   300\n",
      "Quantity       :  2\n",
      "------------------------------\n",
      "Billing Amount :  600\n",
      "------------------------------\n"
     ]
    }
   ],
   "source": [
    "prod_id = input(\"Enter product ID: \")\n",
    "prod_qu = input('Enter product quantity: ')\n",
    "\n",
    "updated_product_lst = []\n",
    "\n",
    "for product in products:\n",
    "    \n",
    "    prod_detail = product.split(',')\n",
    "    \n",
    "    if (prod_detail[0] == prod_id):\n",
    "        print('-'*30)\n",
    "        print('Product name   : ', prod_detail[1])\n",
    "        print('Product price  : ', prod_detail[2])\n",
    "        print('Quantity       : ', prod_qu)\n",
    "        print('-'*30)\n",
    "        print('Billing Amount : ', int(prod_qu) * int(prod_detail[2]))\n",
    "        print('-'*30)\n",
    "\n",
    "        prod_detail[3] = str(int(prod_detail[3]) - int(prod_qu))\n",
    "        \n",
    "    updated_product_lst.append(prod_detail)\n",
    "\n",
    "fd = open('Inventory.txt', 'w')\n",
    "\n",
    "for i in updated_product_lst:\n",
    "    prod = i[0] +\",\"+ i[1] +\",\"+ i[2] +\",\"+ i[3] + '\\n'\n",
    "    fd.write(prod)\n",
    "\n",
    "fd.close()"
   ]
  },
  {
   "cell_type": "code",
   "execution_count": 61,
   "id": "6dddf36b-bfc1-437e-93ff-76d581a97936",
   "metadata": {},
   "outputs": [
    {
     "name": "stdout",
     "output_type": "stream",
     "text": [
      "1, 5 star, 5, 100\n",
      "2, milkbar, 5, 100\n",
      "3, cake, 300, 5\n",
      "4, candy, 1, 200\n"
     ]
    }
   ],
   "source": [
    "for i in products:\n",
    "    print(i)"
   ]
  },
  {
   "cell_type": "code",
   "execution_count": 63,
   "id": "cb01cdc9-4156-498a-87ca-14f86dd6b61d",
   "metadata": {},
   "outputs": [
    {
     "name": "stdout",
     "output_type": "stream",
     "text": [
      "['1', ' 5 star', ' 5', ' 100']\n",
      "['2', ' milkbar', ' 5', ' 100']\n",
      "['3', ' cake', ' 300', '3']\n",
      "['4', ' candy', ' 1', ' 200']\n"
     ]
    }
   ],
   "source": [
    "for i in updated_product_lst:\n",
    "    print(i)"
   ]
  },
  {
   "cell_type": "code",
   "execution_count": 65,
   "id": "2a12e648-0990-444f-ac4f-9080c8c01367",
   "metadata": {},
   "outputs": [
    {
     "name": "stdout",
     "output_type": "stream",
     "text": [
      "1\n",
      " 5 star\n",
      " 5\n",
      " 100\n",
      "2\n",
      " milkbar\n",
      " 5\n",
      " 100\n",
      "3\n",
      " cake\n",
      " 300\n",
      "3\n",
      "4\n",
      " candy\n",
      " 1\n",
      " 200\n"
     ]
    }
   ],
   "source": [
    "for i in updated_product_lst:\n",
    "    for j in i:\n",
    "        print(j)\n",
    "    "
   ]
  },
  {
   "cell_type": "code",
   "execution_count": 67,
   "id": "023cfa35-f5c2-4b16-b20a-4f71ac6b94df",
   "metadata": {},
   "outputs": [
    {
     "name": "stdout",
     "output_type": "stream",
     "text": [
      "1 5 star 5 100\n",
      "2 milkbar 5 100\n",
      "3 cake 3003\n",
      "4 candy 1 200\n"
     ]
    }
   ],
   "source": [
    "# Update the data in the directory\n",
    "for i in updated_product_lst:\n",
    "    prod = i[0] + i[1] + i[2] + i[3]\n",
    "    print(prod)"
   ]
  },
  {
   "cell_type": "code",
   "execution_count": 69,
   "id": "3dce3823-2237-47ed-8852-73ce53baef19",
   "metadata": {},
   "outputs": [],
   "source": [
    "fd = open('Inventory.txt', 'w')\n",
    "\n",
    "for i in updated_product_lst:\n",
    "    prod = i[0] +\",\"+ i[1] +\",\"+ i[2] +\",\"+ i[3]\n",
    "    fd.write(prod)\n",
    "\n",
    "fd.close()"
   ]
  },
  {
   "cell_type": "markdown",
   "id": "d4eb912c-5950-417c-b30f-837ec1362052",
   "metadata": {},
   "source": [
    "### Add Functionalities"
   ]
  },
  {
   "cell_type": "code",
   "execution_count": 73,
   "id": "584d70dd-e3c7-49c3-9c65-68655f38d707",
   "metadata": {},
   "outputs": [
    {
     "name": "stdin",
     "output_type": "stream",
     "text": [
      "Enter the Product Id :  1\n",
      "Enter the Product qu :  10\n"
     ]
    },
    {
     "name": "stdout",
     "output_type": "stream",
     "text": [
      "-------------------------------\n",
      "Product id :  1\n",
      "Product Quantity :  10\n",
      "-------------------------------\n",
      "Product Name :   5 star\n",
      "Product Price :   5\n",
      "Product Demand :  10\n",
      "--------------------------------\n",
      "Product Billing :  50\n"
     ]
    }
   ],
   "source": [
    "fd = open('Inventory.txt', 'r')\n",
    "products_ = fd.read().split('\\n')\n",
    "fd.close()\n",
    "\n",
    "user_prod_id = input('Enter the Product Id : ')\n",
    "user_qua_dem = input('Enter the Product qu : ')\n",
    "\n",
    "update_inventory = []\n",
    "\n",
    "for product_ in products_:\n",
    "\n",
    "    product_details = product_.split(',')\n",
    "\n",
    "    if product_details[0] == user_prod_id:\n",
    "        print('-------------------------------')\n",
    "        print('Product id : ', user_prod_id)\n",
    "        print('Product Quantity : ', user_qua_dem)\n",
    "        print('-------------------------------')\n",
    "        print('Product Name : ', product_details[1])\n",
    "        print('Product Price : ', product_details[2])\n",
    "        print('Product Demand : ', user_qua_dem)\n",
    "        print('--------------------------------')\n",
    "        print('Product Billing : ', int(user_qua_dem) * int(product_details[2]))\n",
    "\n",
    "        product_details[3] = str(int(product_details[3]) - int(user_qua_dem))\n",
    "\n",
    "    update_inventory.append(product_details)\n",
    "\n",
    "fd = open('Inventory.txt', 'w')\n",
    "\n",
    "for i in update_inventory:\n",
    "    pro_ = i[0]+\" \"+i[1]+\" \"+i[2]+\" \"+i[3] + '\\n'\n",
    "    fd.write(pro_)\n",
    "\n",
    "fd.close()"
   ]
  },
  {
   "cell_type": "code",
   "execution_count": 75,
   "id": "a86f2ec9-ab3b-4571-a119-b94d35c060c3",
   "metadata": {},
   "outputs": [
    {
     "name": "stdout",
     "output_type": "stream",
     "text": [
      "[['1', ' 5 star', ' 5', '90'], ['2', ' milkbar', ' 5', ' 100'], ['3', ' cake', ' 300', ' 5'], ['4', ' candy', ' 1', ' 200']]\n"
     ]
    }
   ],
   "source": [
    "print(update_inventory)"
   ]
  },
  {
   "cell_type": "code",
   "execution_count": 77,
   "id": "1154b6c4-def6-4657-8916-19ba7088e348",
   "metadata": {},
   "outputs": [],
   "source": [
    "fd = open('Inventory.txt', 'w')\n",
    "\n",
    "for i in update_inventory:\n",
    "    pro_ = i[0]+\" \"+i[1]+\" \"+i[2]+\" \"+i[3] + '\\n'\n",
    "    fd.write(pro_)\n",
    "\n",
    "fd.close()"
   ]
  },
  {
   "cell_type": "code",
   "execution_count": 79,
   "id": "05b0cb16-89ec-482b-bf90-21ecdd955a42",
   "metadata": {},
   "outputs": [
    {
     "name": "stdout",
     "output_type": "stream",
     "text": [
      "1  5 star  5 90 \n",
      "\n",
      "2  milkbar  5  100 \n",
      "\n",
      "3  cake  300  5 \n",
      "\n",
      "4  candy  1  200 \n",
      "\n"
     ]
    }
   ],
   "source": [
    "for i in update_inventory:\n",
    "    print (i[0]+\" \"+i[1]+\" \"+i[2]+\" \"+i[3], '\\n')"
   ]
  },
  {
   "cell_type": "code",
   "execution_count": 81,
   "id": "bd835315-fe4d-4800-bddf-252bfde89719",
   "metadata": {},
   "outputs": [
    {
     "name": "stdout",
     "output_type": "stream",
     "text": [
      "1\n",
      "2\n",
      "3\n",
      "4\n"
     ]
    }
   ],
   "source": [
    "fd = open('Inventory.txt', 'r')\n",
    "for i in fd:\n",
    "    print(i[0])"
   ]
  },
  {
   "cell_type": "markdown",
   "id": "545ae17c-e7ec-4346-b7b9-7c1821f5357a",
   "metadata": {},
   "source": [
    "### New inventory if the user demand more quantity than we are having or less "
   ]
  },
  {
   "cell_type": "code",
   "execution_count": 83,
   "id": "76ea48e5-130d-482c-ad46-7f01eb333095",
   "metadata": {},
   "outputs": [
    {
     "name": "stdin",
     "output_type": "stream",
     "text": [
      "Enter product id :  2\n",
      "Enter product quantity :  15\n"
     ]
    },
    {
     "name": "stdout",
     "output_type": "stream",
     "text": [
      "----------------------------\n",
      "Product Name     :   milkbar\n",
      "Price            :   5\n",
      "Quantity         :  15\n",
      "----------------------------\n",
      "Billing amount   :  75\n",
      "----------------------------\n"
     ]
    }
   ],
   "source": [
    "# Reading inventory\n",
    "fd = open('Inventory.txt' , 'r')\n",
    "products_ = fd.read().split('\\n')\n",
    "fd.close()\n",
    "\n",
    "# User input\n",
    "pro_id = input('Enter product id : ')\n",
    "user_deman = input('Enter product quantity : ')\n",
    "\n",
    "update_inventory = []\n",
    "\n",
    "# Going through each product detail\n",
    "for produc_ in products_:\n",
    "    \n",
    "    pro_detail = produc_.split(',')\n",
    "\n",
    "    if pro_detail[0] == pro_id: # checking that product exist or not\n",
    "\n",
    "        if int(user_deman) <= int(pro_detail[3]): # checking if we are having enough quantity or not\n",
    "            print('----------------------------')\n",
    "            print('Product Name     : ', pro_detail[1])\n",
    "            print('Price            : ', pro_detail[2])\n",
    "            print('Quantity         : ', user_deman)\n",
    "            print('----------------------------')\n",
    "            print('Billing amount   : ', int(pro_detail[2]) * int(user_deman))\n",
    "            print('----------------------------')\n",
    "\n",
    "            pro_detail[3] = str(int(pro_detail[3]) - int(user_deman))\n",
    "\n",
    "        else: # checking if we are not having enough quantity\n",
    "            print(\"Soryy, we are not have enough quantity?\")\n",
    "            print(\"We are having only\", pro_detail[3], \"quantity.\")\n",
    "            print('Would you like to purchase it?')\n",
    "\n",
    "            ch = input('Press Y/N') # check user wnat to purchase or not\n",
    "\n",
    "            if ch == 'Y': # if user want to purchase \n",
    "                print('----------------------------')\n",
    "                print('Product Name     : ', pro_detail[1])\n",
    "                print('Price            : ', pro_detail[2])\n",
    "                print('Quantity         : ', user_deman)\n",
    "                print('----------------------------')\n",
    "                print('Billing amount   : ', int(pro_detail[2]) * int(user_deman))\n",
    "                print('----------------------------')\n",
    "\n",
    "                # Updating inventory list\n",
    "                pro_detail[3] = '0'\n",
    "    \n",
    "            else:\n",
    "                print('Thanks, for visiting here')\n",
    "\n",
    "                pro_detail[3] = str(int(pro_detail[3]) - int(user_deman))\n",
    "\n",
    "                  \n",
    "    update_inventory.append(pro_detail)\n",
    "\n",
    "lst = []\n",
    "\n",
    "# Updating my inventory\n",
    "for i in update_inventory:\n",
    "    prod = i[0] +\",\"+ i[1] +\",\"+ i[2] +\",\"+ i[3] + '\\n'\n",
    "    lst.append(prod)\n",
    "\n",
    "lst[-1] = lst[-1][:-1]\n",
    "\n",
    "# Updating Inventory file\n",
    "fd = open('Inventory.txt', 'w')\n",
    "\n",
    "for i in lst:\n",
    "    fd.write(i)\n",
    "\n",
    "fd.close()"
   ]
  },
  {
   "cell_type": "markdown",
   "id": "db3a5163-e120-4744-859a-d4d4a8e86d21",
   "metadata": {},
   "source": [
    "### Creating sales file that keep information of user purchase and user detail at every purchase"
   ]
  },
  {
   "cell_type": "code",
   "execution_count": 87,
   "id": "d17d869c-06a3-4765-89e7-01f0769af0e2",
   "metadata": {},
   "outputs": [
    {
     "name": "stdin",
     "output_type": "stream",
     "text": [
      "Enter your Name :  Aman\n",
      "Enter your Phoune No. :  12245\n",
      "Enter your mail id :  am@gmail.com\n",
      "Enter product id :  2\n",
      "Enter product quantity :  8\n"
     ]
    },
    {
     "name": "stdout",
     "output_type": "stream",
     "text": [
      "----------------------------\n",
      "Product Name     :   milkbar\n",
      "Price            :   5\n",
      "Quantity         :  8\n",
      "----------------------------\n",
      "Billing amount   :  40\n",
      "----------------------------\n"
     ]
    }
   ],
   "source": [
    "# Noting the time of transction\n",
    "import time \n",
    "\n",
    "fd = open('Inventory.txt' , 'r')\n",
    "products_ = fd.read().split('\\n')\n",
    "fd.close()\n",
    "\n",
    "# User input\n",
    "user_name  = input('Enter your Name : ')\n",
    "user_phone = input('Enter your Phoune No. : ')\n",
    "user_mail  = input('Enter your mail id : ')\n",
    "pro_id     = input('Enter product id : ')\n",
    "user_deman = input('Enter product quantity : ')\n",
    "\n",
    "update_inventory = []\n",
    "\n",
    "# Going through each product detail\n",
    "for produc_ in products_:\n",
    "    \n",
    "    pro_detail = produc_.split(',')\n",
    "\n",
    "    if pro_detail[0] == pro_id: # checking that product exist or not\n",
    "\n",
    "        if int(user_deman) <= int(pro_detail[3]): # checking if we are having enough quantity or not\n",
    "            print('----------------------------')\n",
    "            print('Product Name     : ', pro_detail[1])\n",
    "            print('Price            : ', pro_detail[2])\n",
    "            print('Quantity         : ', user_deman)\n",
    "            print('----------------------------')\n",
    "            print('Billing amount   : ', int(pro_detail[2]) * int(user_deman))\n",
    "            print('----------------------------')\n",
    "\n",
    "            # Updating our inventory list\n",
    "            pro_detail[3] = str(int(pro_detail[3]) - int(user_deman))\n",
    "\n",
    "            # for every transction creat a empty file in your sys i.e sales.txt\n",
    "            # Generating the sales in sales.txt\n",
    "            fd = open('sales.txt', 'a') # opening sales file\n",
    "            sales_detail = user_name +\",\"+ user_phone +\",\"+ user_mail +\",\"+ pro_id +\",\"+ user_deman +\",\"+ str(int(pro_detail[2]) * int(user_deman)) +\",\"+ time.ctime() + '\\n'\n",
    "            # time.ctime() gives current date and time\n",
    "            fd.write(sales_detail)\n",
    "            fd.close()\n",
    "            \n",
    "        else: # checking if we are not having enough quantity\n",
    "            print(\"Soryy, we are not have enough quantity?\")\n",
    "            print(\"We are having only\", pro_detail[3], \"quantity.\")\n",
    "            print('Would you like to purchase it?')\n",
    "\n",
    "            ch = input('Press Y/N') # check user wnat to purchase or not\n",
    "\n",
    "            if ch == 'Y': # if user want to purchase \n",
    "                print('----------------------------')\n",
    "                print('Product Name     : ', pro_detail[1])\n",
    "                print('Price            : ', pro_detail[2])\n",
    "                print('Quantity         : ', user_deman)\n",
    "                print('----------------------------')\n",
    "                print('Billing amount   : ', int(pro_detail[2]) * int(user_deman))\n",
    "                print('----------------------------')\n",
    "\n",
    "                # for every transction creat a empty file in your sys i.e sales.txt\n",
    "                # Generating the sales in sales.txt\n",
    "                fd = open('sales.txt', 'a') # opening sales file\n",
    "                sales_detail = user_name +\",\"+ user_phone +\",\"+ user_mail +\",\"+ pro_id +\",\"+ user_deman +\",\"+ str(int(pro_detail[2]) * int(user_deman)) +\",\"+ time.ctime() + '\\n'\n",
    "                # time.ctime() gives current date and time\n",
    "                fd.write(sales_detail)\n",
    "                fd.close()\n",
    "                \n",
    "                # Updating inventory list\n",
    "                pro_detail[3] = '0'\n",
    "    \n",
    "            else:\n",
    "                print('Thanks, for visiting here')\n",
    "\n",
    "                pro_detail[3] = str(int(pro_detail[3]) - int(user_deman))\n",
    "  \n",
    "    update_inventory.append(pro_detail)\n",
    "\n",
    "lst = []\n",
    "\n",
    "# Updating my inventory\n",
    "for i in update_inventory:\n",
    "    prod = i[0] +\",\"+ i[1] +\",\"+ i[2] +\",\"+ i[3] + '\\n'\n",
    "    lst.append(prod)\n",
    "\n",
    "# removing the last \\n from the list\n",
    "lst[-1] = lst[-1][:-1]\n",
    "\n",
    "# Updating Inventory file\n",
    "fd = open('Inventory.txt', 'w')\n",
    "\n",
    "for i in lst:\n",
    "    fd.write(i)\n",
    "\n",
    "fd.close()"
   ]
  },
  {
   "cell_type": "markdown",
   "id": "30c24a04-18de-42ca-b2aa-ac792e3c72f7",
   "metadata": {},
   "source": [
    "# Inventory management overview - json"
   ]
  },
  {
   "cell_type": "code",
   "execution_count": 2,
   "id": "723ad232-f4f7-4276-a539-cce1eabb8fac",
   "metadata": {},
   "outputs": [],
   "source": [
    "record = {1001 : '5 Stra', 1002 : 'Bar-One', 1003 : 'Candy', 1004 : 'Chocolate cake', 1005 : 'Bluberry cake'}"
   ]
  },
  {
   "cell_type": "code",
   "execution_count": 4,
   "id": "e07eb0c5-312c-4d73-be4f-bbcb887be8ea",
   "metadata": {},
   "outputs": [
    {
     "data": {
      "text/plain": [
       "{1001: '5 Stra',\n",
       " 1002: 'Bar-One',\n",
       " 1003: 'Candy',\n",
       " 1004: 'Chocolate cake',\n",
       " 1005: 'Bluberry cake'}"
      ]
     },
     "execution_count": 4,
     "metadata": {},
     "output_type": "execute_result"
    }
   ],
   "source": [
    "record"
   ]
  },
  {
   "cell_type": "code",
   "execution_count": 6,
   "id": "97feaab9-21d4-48dc-84a5-2707d4cc6756",
   "metadata": {},
   "outputs": [
    {
     "data": {
      "text/plain": [
       "'Chocolate cake'"
      ]
     },
     "execution_count": 6,
     "metadata": {},
     "output_type": "execute_result"
    }
   ],
   "source": [
    "record[1004]"
   ]
  },
  {
   "cell_type": "code",
   "execution_count": 14,
   "id": "5a02652d-4ee4-4665-8575-5d4e93c2fdae",
   "metadata": {},
   "outputs": [],
   "source": [
    "record_ = {1001 : {'Name' : '5 Stra',         'Price' : 10, 'Qn' : 200}, \n",
    "          1002 : {'Name' : 'Bar-One',        'Price' : 20, 'Qn' : 100}, \n",
    "          1003 : {'Name' : 'Candy',          'Price' : 2,  'Qn' : 1000},\n",
    "          1004 : {'Name' : 'Chocolate cake', 'Price' : 550, 'Qn' : 8} ,\n",
    "          1005 : {'Name' : 'Bluberry cake', 'Price' : 650, 'Qn' : 5}}"
   ]
  },
  {
   "cell_type": "code",
   "execution_count": 18,
   "id": "b2040af1-71c8-47f5-b78c-164069c00884",
   "metadata": {},
   "outputs": [
    {
     "data": {
      "text/plain": [
       "{'Name': '5 Stra', 'Price': 10, 'Qn': 200}"
      ]
     },
     "execution_count": 18,
     "metadata": {},
     "output_type": "execute_result"
    }
   ],
   "source": [
    "record_[1001]"
   ]
  },
  {
   "cell_type": "code",
   "execution_count": 20,
   "id": "d36362d2-7be7-4089-9488-4e16cf968ad8",
   "metadata": {},
   "outputs": [
    {
     "data": {
      "text/plain": [
       "2"
      ]
     },
     "execution_count": 20,
     "metadata": {},
     "output_type": "execute_result"
    }
   ],
   "source": [
    "record_[1003]['Price']"
   ]
  },
  {
   "cell_type": "code",
   "execution_count": 22,
   "id": "10865e5a-223e-4f6a-8d94-a12ddd7a2269",
   "metadata": {},
   "outputs": [
    {
     "name": "stdout",
     "output_type": "stream",
     "text": [
      "1001\n",
      "1002\n",
      "1003\n",
      "1004\n",
      "1005\n"
     ]
    }
   ],
   "source": [
    "for key in record_.keys():\n",
    "    print(key)"
   ]
  },
  {
   "cell_type": "code",
   "execution_count": 30,
   "id": "5cc5ab0c-de05-4fc1-a48d-a6984603f378",
   "metadata": {},
   "outputs": [
    {
     "name": "stdout",
     "output_type": "stream",
     "text": [
      "1001 : 5 Stra 10 200\n",
      "1002 : Bar-One 20 100\n",
      "1003 : Candy 2 1000\n",
      "1004 : Chocolate cake 550 8\n",
      "1005 : Bluberry cake 650 5\n"
     ]
    }
   ],
   "source": [
    "for key in record_.keys():\n",
    "    print(key, ':', record_[key]['Name'], record_[key]['Price'], record_[key]['Qn'])"
   ]
  },
  {
   "cell_type": "code",
   "execution_count": 34,
   "id": "5dcb239b-436a-4485-9c7f-2a2c3d15f48c",
   "metadata": {},
   "outputs": [
    {
     "name": "stdout",
     "output_type": "stream",
     "text": [
      "{'Name': '5 Stra', 'Price': 10, 'Qn': 200}\n",
      "{'Name': 'Bar-One', 'Price': 20, 'Qn': 100}\n",
      "{'Name': 'Candy', 'Price': 2, 'Qn': 1000}\n",
      "{'Name': 'Chocolate cake', 'Price': 550, 'Qn': 8}\n",
      "{'Name': 'Bluberry cake', 'Price': 650, 'Qn': 5}\n"
     ]
    }
   ],
   "source": [
    "for key in record_.keys():\n",
    "    print(record_[key])"
   ]
  },
  {
   "cell_type": "code",
   "execution_count": 36,
   "id": "64522493-7755-4e4c-ac33-7faac2e68a8a",
   "metadata": {},
   "outputs": [
    {
     "data": {
      "text/plain": [
       "{1001: {'Name': '5 Stra', 'Price': 10, 'Qn': 200},\n",
       " 1002: {'Name': 'Bar-One', 'Price': 20, 'Qn': 100},\n",
       " 1003: {'Name': 'Candy', 'Price': 2, 'Qn': 1000},\n",
       " 1004: {'Name': 'Chocolate cake', 'Price': 550, 'Qn': 8},\n",
       " 1005: {'Name': 'Bluberry cake', 'Price': 650, 'Qn': 5}}"
      ]
     },
     "execution_count": 36,
     "metadata": {},
     "output_type": "execute_result"
    }
   ],
   "source": [
    "record_"
   ]
  },
  {
   "cell_type": "code",
   "execution_count": 38,
   "id": "f6f339a7-8989-4714-a8f9-dd0f773ef887",
   "metadata": {},
   "outputs": [
    {
     "name": "stdout",
     "output_type": "stream",
     "text": [
      "-------------MENU---------------\n",
      "\n",
      "1001 : 5 Stra | 10 | 200\n",
      "1002 : Bar-One | 20 | 100\n",
      "1003 : Candy | 2 | 1000\n",
      "1004 : Chocolate cake | 550 | 8\n",
      "1005 : Bluberry cake | 650 | 5\n",
      "--------------------------------\n",
      "\n"
     ]
    }
   ],
   "source": [
    "print('-------------MENU---------------\\n')\n",
    "\n",
    "for key in record_.keys():\n",
    "    print(key, ':', record_[key]['Name'], '|', record_[key]['Price'], '|', record_[key]['Qn'])\n",
    "\n",
    "print('--------------------------------\\n')"
   ]
  },
  {
   "cell_type": "code",
   "execution_count": null,
   "id": "78e23284-4da8-4fb4-8223-f0c8ac62ce2d",
   "metadata": {},
   "outputs": [],
   "source": []
  }
 ],
 "metadata": {
  "kernelspec": {
   "display_name": "Python 3 (ipykernel)",
   "language": "python",
   "name": "python3"
  },
  "language_info": {
   "codemirror_mode": {
    "name": "ipython",
    "version": 3
   },
   "file_extension": ".py",
   "mimetype": "text/x-python",
   "name": "python",
   "nbconvert_exporter": "python",
   "pygments_lexer": "ipython3",
   "version": "3.12.3"
  }
 },
 "nbformat": 4,
 "nbformat_minor": 5
}
